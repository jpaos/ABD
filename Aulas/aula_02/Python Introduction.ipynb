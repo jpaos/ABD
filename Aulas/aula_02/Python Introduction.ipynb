{
 "cells": [
  {
   "cell_type": "markdown",
   "metadata": {},
   "source": [
    "# Python Introduction\n",
    "In this class we talk about python programming language and we make an introduction to his components."
   ]
  },
  {
   "cell_type": "markdown",
   "metadata": {},
   "source": [
    "## Summary\n",
    "- <a href='#1'>1. Context and Motivation</a>\n",
    "    - <a href='#1.1'>1.1. Jupyter notebooks</a>\n",
    "- <a href='#2'>2. Python</a>\n",
    "    - <a href='#2.1'>2.1. Basic instructions</a>\n",
    "    - <a href='#2.2'>2.2. Primitive data types</a>\n",
    "    - <a href='#2.3'>2.3. Other Data types</a>\n",
    "    - <a href='#2.4'>2.4. Control Structures</a>\n",
    "    - <a href='#2.5'>2.5. Loops</a>\n",
    "    - <a href='#2.6'>2.6. Functions</a>\n",
    "    - <a href='#2.7'>2.7. Classes</a>\n",
    "    - <a href='#2.8'>2.8. Files</a>\n",
    "    - <a href='#2.9'>2.9. Modules</a>\n"
   ]
  },
  {
   "cell_type": "markdown",
   "metadata": {},
   "source": [
    "# <a id='1'>1.Context and Motivation</a>"
   ]
  },
  {
   "cell_type": "markdown",
   "metadata": {},
   "source": [
    "**Python** -  Python is a high level  interpreted programing language, object oriented, dinamyc typed and strong.  \n",
    "It is used by a lot's of companies such **Amazon, Google, Facebook**.  \n",
    "Recently has gain more relevancy because it is easy to use and its machine learning modules."
   ]
  },
  {
   "cell_type": "markdown",
   "metadata": {},
   "source": [
    "**Jupyter Notebooks** - Are Documents wich can contain both code and rich elements such images, links, paragraphs etc<"
   ]
  },
  {
   "cell_type": "markdown",
   "metadata": {},
   "source": [
    "**Motivation** In this change enterprise enviroment we need to present **results fast**.Combining **python with jupyter** notebooks we can deliver for instance a analysis for a client fast and explainable using jupyter notebooks."
   ]
  },
  {
   "cell_type": "markdown",
   "metadata": {},
   "source": [
    "## <a id='1.1'>1.1. Jupyter notebooks</a>"
   ]
  },
  {
   "cell_type": "markdown",
   "metadata": {},
   "source": [
    "### Magic commands\n",
    "There is commands denominated `_magic command_` that starts with character `%`. \n",
    "\n",
    "- To obtain the list of commands avaliable use `%lsmagic`.\n",
    "- For mor information in general use `%magic`.\n",
    "\n",
    "One command _magic_ introduced in one unique line must start with the character `%` (_line magic_). On case of a command with multiple lines use `%%`.\n",
    "\n",
    "Magic usefull commands:\n",
    "\n",
    "- `!`: Executes a `shell` command. E.g: `! ls -l`\n",
    "- `%pylab inline`: Load the module `numpy` (as `np`) and the module `matplotlib` \"inline\"\n",
    "- `%bash`: executes a cell as a `bash` process \n",
    "- `%time`: evaluate the execution time of a command\n",
    "- `%%latex`: interprets a cell as latex\n",
    "- `%timeit`: evaluates the time of execution of a command multiple times and shows the average time.\n",
    "- `%reset`: Deleve all _workspace_ the variables\n",
    "- `%bookmark`: (Allow to save a location in hard drive, i.e. actual directory to use later.\n",
    "- `%hist -o`: (history: returns the list of executed commands)"
   ]
  },
  {
   "cell_type": "markdown",
   "metadata": {},
   "source": [
    "### Clear workspace\n",
    "\n",
    "It is possible delete all the variables and defined function or imported from one time using `%reset` command. the `f` don't ask for confirmation.\n",
    "\n",
    "    %reset -f\n",
    "    %reset"
   ]
  },
  {
   "cell_type": "markdown",
   "metadata": {},
   "source": [
    "### Tab completion\n",
    "One of the best functionality is tab completion.It allows commplete the command writing.   \n",
    "Works with directories and files.\n",
    "\n",
    "Try to write:  \n",
    "`pri`   \n",
    "`print(\"ola\",`"
   ]
  },
  {
   "cell_type": "markdown",
   "metadata": {},
   "source": [
    "### Detailed information about defined objects\n",
    "\n",
    "It is possible visualize which objects are defined in the workspace using the command `whos`.\n",
    "\n",
    "    whos"
   ]
  },
  {
   "cell_type": "markdown",
   "metadata": {},
   "source": [
    "### Help about a command\n",
    "To get help about a command can use `?` follow the command.E.g: `whos?`\n",
    "\n",
    "There is another commands to obtain help such:  `help()` and `dir()`. Note: the command `dir()` lists the methods of some object or instance.\n",
    "    \n",
    "    whos?"
   ]
  },
  {
   "cell_type": "markdown",
   "metadata": {},
   "source": [
    "### Profiling\n",
    "\n",
    "`Python` has a lot of tools for _profiling_. Such:\n",
    "\n",
    "    %timeit [x*x for x in range(10000)] \n",
    "    %run -t script.py\n",
    "    %prun (ou %run -p) script.py"
   ]
  },
  {
   "cell_type": "markdown",
   "metadata": {},
   "source": [
    "### Save  workspace\n",
    "The workspace the variables, can be saved using module `pickle`. Instead the module `shelve can be used`.\n",
    "\n",
    "    pickle.dump(x, open( \"teste.bin\", \"wb\" ))\n",
    "    y = pickle.load(open( \"teste.bin\", \"rb\" ))\n",
    "    pickle.dump([x, y], open( \"teste.bin\", \"wb\" ))\n",
    "    (x,y) = pickle.load(open( \"teste.bin\", \"rb\" ))"
   ]
  },
  {
   "cell_type": "markdown",
   "metadata": {},
   "source": [
    "# <a id='2'>2. Python </a>"
   ]
  },
  {
   "cell_type": "markdown",
   "metadata": {},
   "source": [
    "## <a id='2.1'>2.1. Basic instructions</a>"
   ]
  },
  {
   "cell_type": "markdown",
   "metadata": {},
   "source": [
    "Try the follow simple instructions:\n",
    "    \n",
    "    1+1\n",
    "    4+2*3\n",
    "    6 / 7\n",
    "    6 // 7 (floor or integer division)\n",
    "    x = 2\n",
    "    y = 3\n",
    "    z = x+y\n",
    "    print(z)\n",
    "    print(\"Hello world\")"
   ]
  },
  {
   "cell_type": "markdown",
   "metadata": {},
   "source": [
    "## <a id='2.2'>2.2. Primitive data types</a>"
   ]
  },
  {
   "cell_type": "markdown",
   "metadata": {},
   "source": [
    "## String\n",
    "\n",
    "String the type `string` allow us to save a character sequence. A character sequence is defined between \"\" or ''.\n",
    "\n",
    "Special characters (_escape characteres_) can be defined usin the character `\\`  follow the one letter. E.g `\\n` defines a new line.\n",
    "\n",
    "    x=\"ola\"\n",
    "    print(x)\n",
    "    y=\"ola\\nTudo bem?\"\n",
    "    print(y)"
   ]
  },
  {
   "cell_type": "markdown",
   "metadata": {},
   "source": [
    "The command `print` acepts multiple arguments and options:\n",
    "\n",
    "    print(x,y)\n",
    "    \n",
    "    print(\"ola \", end='')\n",
    "    print(\"tudo bem?)\n",
    "    "
   ]
  },
  {
   "cell_type": "code",
   "execution_count": 50,
   "metadata": {},
   "outputs": [
    {
     "data": {
      "text/plain": [
       "'HELLO'"
      ]
     },
     "execution_count": 50,
     "metadata": {},
     "output_type": "execute_result"
    }
   ],
   "source": [
    "## to Upper \n",
    "x = \"hello\"\n",
    "x.upper()"
   ]
  },
  {
   "cell_type": "code",
   "execution_count": null,
   "metadata": {},
   "outputs": [],
   "source": [
    "type(x) # check the type object x"
   ]
  },
  {
   "cell_type": "code",
   "execution_count": 51,
   "metadata": {},
   "outputs": [
    {
     "data": {
      "text/plain": [
       "['__add__',\n",
       " '__class__',\n",
       " '__contains__',\n",
       " '__delattr__',\n",
       " '__dir__',\n",
       " '__doc__',\n",
       " '__eq__',\n",
       " '__format__',\n",
       " '__ge__',\n",
       " '__getattribute__',\n",
       " '__getitem__',\n",
       " '__getnewargs__',\n",
       " '__gt__',\n",
       " '__hash__',\n",
       " '__init__',\n",
       " '__init_subclass__',\n",
       " '__iter__',\n",
       " '__le__',\n",
       " '__len__',\n",
       " '__lt__',\n",
       " '__mod__',\n",
       " '__mul__',\n",
       " '__ne__',\n",
       " '__new__',\n",
       " '__reduce__',\n",
       " '__reduce_ex__',\n",
       " '__repr__',\n",
       " '__rmod__',\n",
       " '__rmul__',\n",
       " '__setattr__',\n",
       " '__sizeof__',\n",
       " '__str__',\n",
       " '__subclasshook__',\n",
       " 'capitalize',\n",
       " 'casefold',\n",
       " 'center',\n",
       " 'count',\n",
       " 'encode',\n",
       " 'endswith',\n",
       " 'expandtabs',\n",
       " 'find',\n",
       " 'format',\n",
       " 'format_map',\n",
       " 'index',\n",
       " 'isalnum',\n",
       " 'isalpha',\n",
       " 'isdecimal',\n",
       " 'isdigit',\n",
       " 'isidentifier',\n",
       " 'islower',\n",
       " 'isnumeric',\n",
       " 'isprintable',\n",
       " 'isspace',\n",
       " 'istitle',\n",
       " 'isupper',\n",
       " 'join',\n",
       " 'ljust',\n",
       " 'lower',\n",
       " 'lstrip',\n",
       " 'maketrans',\n",
       " 'partition',\n",
       " 'replace',\n",
       " 'rfind',\n",
       " 'rindex',\n",
       " 'rjust',\n",
       " 'rpartition',\n",
       " 'rsplit',\n",
       " 'rstrip',\n",
       " 'split',\n",
       " 'splitlines',\n",
       " 'startswith',\n",
       " 'strip',\n",
       " 'swapcase',\n",
       " 'title',\n",
       " 'translate',\n",
       " 'upper',\n",
       " 'zfill']"
      ]
     },
     "execution_count": 51,
     "metadata": {},
     "output_type": "execute_result"
    }
   ],
   "source": [
    "dir(x) # check the methods of string type x"
   ]
  },
  {
   "cell_type": "code",
   "execution_count": 55,
   "metadata": {},
   "outputs": [
    {
     "name": "stdout",
     "output_type": "stream",
     "text": [
      "Help on built-in function upper:\n",
      "\n",
      "upper(...) method of builtins.str instance\n",
      "    S.upper() -> str\n",
      "    \n",
      "    Return a copy of S converted to uppercase.\n",
      "\n"
     ]
    }
   ],
   "source": [
    "help(x.upper)"
   ]
  },
  {
   "cell_type": "code",
   "execution_count": 57,
   "metadata": {},
   "outputs": [
    {
     "name": "stdout",
     "output_type": "stream",
     "text": [
      "ola\n",
      "tudo\t bem?\n"
     ]
    }
   ],
   "source": [
    "y = \"ola\\ntudo\\t bem?\"\n",
    "print(y) # change the string line after ola and put a tab between tudo and bem"
   ]
  },
  {
   "cell_type": "code",
   "execution_count": 59,
   "metadata": {},
   "outputs": [
    {
     "data": {
      "text/plain": [
       "14"
      ]
     },
     "execution_count": 59,
     "metadata": {},
     "output_type": "execute_result"
    }
   ],
   "source": [
    "len(y) # len of a String"
   ]
  },
  {
   "cell_type": "markdown",
   "metadata": {},
   "source": [
    "### Concatenation and Lenght\n",
    "\n",
    "    s = \"ola\" + \"margarida\"\n",
    "    print(s)\n",
    "    \n",
    "    len(s)\n",
    "    \n",
    "    s=\"-\"*1000\n",
    "    print(s)"
   ]
  },
  {
   "cell_type": "markdown",
   "metadata": {},
   "source": [
    "### Slices\n",
    "Allow the acess of a element or set of elements in a variable."
   ]
  },
  {
   "cell_type": "markdown",
   "metadata": {},
   "source": [
    "`s[begining:end]`. E.g, be `s = \"Hello\"`.\n",
    "\n",
    "    s[1:4]\n",
    "    s[1:]\n",
    "    s[:]\n",
    "    s[1:100]\n",
    "\n"
   ]
  },
  {
   "cell_type": "markdown",
   "metadata": {},
   "source": [
    "**Importante:**\n",
    "\n",
    "    s[:n] + s[n:] == s"
   ]
  },
  {
   "cell_type": "markdown",
   "metadata": {},
   "source": [
    "### Operators\n",
    "\n",
    "#### Aritmetic Operators\n",
    "\n",
    "Operador | Description | Example\n",
    ":-:|-|- \n",
    "`+` | addiction | x = y+2\n",
    "`-` | subtraction | x = y-2\n",
    "`*` | multiplication | x = 3*y\n",
    "`/` | division (by default integer if operands are integers) | x = y / 2\n",
    "`//` | integer division (regardless of operands) | x = 3.0 // 2.\n",
    "`**` | exponentiation | x = 2**4\n",
    "`%` | rest of the whole division | x = 5%4"
   ]
  },
  {
   "cell_type": "markdown",
   "metadata": {},
   "source": [
    "#### Relational Operators \n",
    "\n",
    "Operator | Description\n",
    ":-:|-\n",
    "`<` | less\n",
    "`<=` | less or equal\n",
    "`>` | greater\n",
    "`>=` | greater or equal\n",
    "`==` | equal\n",
    "`!=` or `<>` | different "
   ]
  },
  {
   "cell_type": "markdown",
   "metadata": {},
   "source": [
    "#### Lógical Operators\n",
    "\n",
    "Operator | Description \n",
    ":-:|-\n",
    "`or` | disjunction - \"or\"\n",
    "`and` | conjunction - \"and\"\n",
    "`not` | negation - \"not\""
   ]
  },
  {
   "cell_type": "markdown",
   "metadata": {},
   "source": [
    "#### Inclusion Operators \n",
    "`in` e `not in`\n",
    "\n",
    "    character = \"s\"\n",
    "    word = \"operadores\"\n",
    "    character in word"
   ]
  },
  {
   "cell_type": "markdown",
   "metadata": {},
   "source": [
    "#### Identity Operators \n",
    "\n",
    "In `python` most of the times the operador `=`  does not copy the object but return a reference  for the same.  for testing if two objects share the same memory position can be used identity operators.\n",
    "\n",
    "Operador | Description\n",
    ":-:|-\n",
    "`is` | returns true if two variables points the same object\n",
    "`is not` | returns false if two variables do not point to the same object "
   ]
  },
  {
   "cell_type": "markdown",
   "metadata": {},
   "source": [
    "### Attention!!!\n",
    "`==` and `!=` vs `is` and `is not`\n",
    "\n",
    "    [2,3] == [3,3]\n",
    "    [2,3] == [2,3]\n",
    "    [2,3] is [2,3]\n",
    "    \n",
    "    x=[2,3]\n",
    "    y = x\n",
    "    y is x\n",
    "    \n",
    "    x=[2,3]\n",
    "    y = x\n",
    "    y is x\n",
    "    \n",
    "**Nota: Check the id of an object:**\n",
    "\n",
    "    id(x)\n",
    "    id(y)\n",
    "    \n",
    "For copy complex structures can be used the módule `copy`\n",
    "\n",
    "    import copy\n",
    "    x = [1,[2]]\n",
    "    y = copy.copy(x)"
   ]
  },
  {
   "cell_type": "markdown",
   "metadata": {},
   "source": [
    "### Integer and Decimals\n",
    "\n",
    "If a integer value is set into a variable the type of data is (`int`). If the value has decimal part it is a `float`.\n",
    "\n",
    "    x=2\n",
    "    type(x)\n",
    "    \n",
    "    x=2.\n",
    "    type(x)"
   ]
  },
  {
   "cell_type": "markdown",
   "metadata": {},
   "source": [
    "### Boolean\n",
    "\n",
    "The type of data `boolean` allow us to save two values: true(`True`) or false (`False`).\n",
    "\n",
    "    x = True\n",
    "    y = False\n",
    "    type(y)"
   ]
  },
  {
   "cell_type": "markdown",
   "metadata": {},
   "source": [
    "## <a id='2.3'>2.3. Other data types</a>"
   ]
  },
  {
   "cell_type": "markdown",
   "metadata": {},
   "source": [
    "## Lists\n",
    "\n",
    "Lists are **mutable** sequencies of objects of any type\n",
    "\n",
    "(strings are immutable)\n",
    "\n",
    "    lista = ['machine', 'learning', 2019]\n",
    "    numbers = [1,2,3,4]\n",
    "    lista[2] = 'is the best'\n",
    "    del lista[2]\n",
    "    numbers.append(10)\n",
    "    \n",
    "    x = [12, 14, 16]\n",
    "    numbers + x\n",
    "    \n",
    "    numbers.reverse()\n",
    "    \n",
    "    names=[\"Joao\", \"Antonio\", \"Pedro\"]\n",
    "    names.sort() \n",
    "    \n",
    "    len(names)"
   ]
  },
  {
   "cell_type": "markdown",
   "metadata": {},
   "source": [
    "## Tuples\n",
    "\n",
    "Tuples are **immutable** sequences typically used to store heterogeneous data. It can be seen as a single object that consists of several different parts.\n",
    "\n",
    "Once common use is to return more than one object from a Python function."
   ]
  },
  {
   "cell_type": "code",
   "execution_count": 70,
   "metadata": {},
   "outputs": [],
   "source": [
    "tup1 = ('big', 'data', 2019)\n",
    "tup2 = (1,2,3,4,5,6)"
   ]
  },
  {
   "cell_type": "code",
   "execution_count": 71,
   "metadata": {},
   "outputs": [
    {
     "data": {
      "text/plain": [
       "('data', 2019)"
      ]
     },
     "execution_count": 71,
     "metadata": {},
     "output_type": "execute_result"
    }
   ],
   "source": [
    "tup1[1:]"
   ]
  },
  {
   "cell_type": "markdown",
   "metadata": {},
   "source": [
    "## Ranges\n",
    "\n",
    "Ranges are immutable sequences of integers (range object!)"
   ]
  },
  {
   "cell_type": "code",
   "execution_count": 72,
   "metadata": {},
   "outputs": [
    {
     "data": {
      "text/plain": [
       "range(0, 5)"
      ]
     },
     "execution_count": 72,
     "metadata": {},
     "output_type": "execute_result"
    }
   ],
   "source": [
    "range(0,5)"
   ]
  },
  {
   "cell_type": "code",
   "execution_count": 73,
   "metadata": {},
   "outputs": [
    {
     "data": {
      "text/plain": [
       "[0, 1, 2, 3, 4]"
      ]
     },
     "execution_count": 73,
     "metadata": {},
     "output_type": "execute_result"
    }
   ],
   "source": [
    "list(range(5))"
   ]
  },
  {
   "cell_type": "markdown",
   "metadata": {},
   "source": [
    "## Sets\n",
    "\n",
    "`sets` are a collection of elements without repetitions. The objects of type  `set` supports math operations such as `union`, `intersection`, `diference` e `symmetric difference`.\n",
    "\n",
    "    colors = {'blue', 'red', 'green', 'orange', 'red'}\n",
    "    colors\n",
    "    \n",
    "    'green' in colors\n",
    "    'yellow' in colors\n",
    "    \n",
    "    lesscolors = set(['blue', 'green', 'yellow'])\n",
    "    \n",
    "    colors - lesscolors\n",
    "    colors | lesscolors\n",
    "    colors & lesscolors\n",
    "    colors ^ lesscolors\n",
    "\n",
    "\n",
    "Add or remove elements\n",
    "\n",
    "    colors.add('black')\n",
    "    colors.pop()"
   ]
  },
  {
   "cell_type": "markdown",
   "metadata": {},
   "source": [
    "## Dictionaries\n",
    "\n",
    "Dictionaries are maps between _key objects_ for _value objects_.\n",
    "\n",
    "The _key objects_ must be unchanging!\n",
    "\n",
    "The dictionaries can be created with `{ }` or using constructor  `dict()`:\n",
    "\n",
    "    phones = {'joao': 123, 'pedro': 124, 'antónio': 125}\n",
    "    rooms = dict([('joao', 'D604'), ('pedro', 'D605')])\n",
    "    months = dict(jan=31, fev=29, mar=31)\n",
    "    \n",
    "#### Acess dictionary elements     \n",
    "    \n",
    "The acess of a dictionary elements do it using `[  ]`  and indicating the corresponding _key_:\n",
    "    \n",
    "    phones['joao']\n",
    "    rooms['pedro'] = 'D606'\n",
    "    \n",
    "Delete a element we use del command `del`:\n",
    "    \n",
    "    del rooms['pedro']  # remove a entrada com a key 'pedro' \n",
    "    months.clear();      # remove todos os elementos do dicionário\n",
    "    del months ;         # apaga o dicionário\n",
    "    \n",
    "#### Methods\n",
    "\n",
    "The following table lists a set of methods available for dictionary objects (note that there are more).\n",
    "\n",
    "Method | Description\n",
    "-|-\n",
    "`dict.clear()` | remove all dictionary elements `dict`\n",
    "`dict.copy()` | returns a copy of the dictionary `dict`\n",
    "`dict.keys()` | returns a list with dictionary `keys` \n",
    "`dict.values()` |returns a list of dictionary elements `dict`\n",
    "`dict.items()` | returns a list of tuples (`key`, `value`) from the dictionary `dict`\n",
    "`dict.has_key(key)` | returns `true` if the `key` exists in the dictionary `dict`"
   ]
  },
  {
   "cell_type": "markdown",
   "metadata": {},
   "source": [
    "## <a id='2.4'>2.4. Control structures</a>"
   ]
  },
  {
   "cell_type": "markdown",
   "metadata": {},
   "source": [
    "## Identação\n",
    "\n",
    "- on code block starts with character`:`\n",
    "- use o TAB\n",
    "- select the code block and use TAB or shift TAB"
   ]
  },
  {
   "cell_type": "code",
   "execution_count": 37,
   "metadata": {},
   "outputs": [],
   "source": [
    "x=3"
   ]
  },
  {
   "cell_type": "markdown",
   "metadata": {},
   "source": [
    "### Ifs"
   ]
  },
  {
   "cell_type": "code",
   "execution_count": 33,
   "metadata": {},
   "outputs": [
    {
     "name": "stdout",
     "output_type": "stream",
     "text": [
      "Menor que 5\n"
     ]
    }
   ],
   "source": [
    "if x>5:\n",
    "    print(\"Maior que 5\")\n",
    "else:\n",
    "    print(\"Menor que 5\")"
   ]
  },
  {
   "cell_type": "code",
   "execution_count": 34,
   "metadata": {},
   "outputs": [
    {
     "name": "stdout",
     "output_type": "stream",
     "text": [
      "menor que 5\n"
     ]
    }
   ],
   "source": [
    "if x>5:\n",
    "    print(\"maior que 5\")\n",
    "elif x==5:\n",
    "    print(\"igual a 5\")\n",
    "else:\n",
    "    print(\"menor que 5\")"
   ]
  },
  {
   "cell_type": "markdown",
   "metadata": {},
   "source": [
    "## <a id='2.5'>2.5. Loops</a>"
   ]
  },
  {
   "cell_type": "code",
   "execution_count": 32,
   "metadata": {},
   "outputs": [
    {
     "name": "stdout",
     "output_type": "stream",
     "text": [
      "10\n",
      "9\n",
      "8\n",
      "7\n",
      "6\n",
      "5\n",
      "4\n",
      "3\n",
      "2\n",
      "1\n"
     ]
    }
   ],
   "source": [
    "x = 10\n",
    "while x > 0:\n",
    "    print(x)\n",
    "    x-=1"
   ]
  },
  {
   "cell_type": "code",
   "execution_count": 28,
   "metadata": {},
   "outputs": [
    {
     "name": "stdout",
     "output_type": "stream",
     "text": [
      "ola\n",
      "bom\n",
      "dia\n"
     ]
    }
   ],
   "source": [
    "lista = ['ola', 'bom', 'dia']\n",
    "for item in lista:\n",
    "    print(item)"
   ]
  },
  {
   "cell_type": "code",
   "execution_count": 29,
   "metadata": {},
   "outputs": [
    {
     "name": "stdout",
     "output_type": "stream",
     "text": [
      "2\n",
      "4\n",
      "6\n",
      "8\n"
     ]
    }
   ],
   "source": [
    "for i in range (2,10,2):\n",
    "    print(i)"
   ]
  },
  {
   "cell_type": "code",
   "execution_count": 30,
   "metadata": {},
   "outputs": [],
   "source": [
    "coordinates = [(i, i**2) for i in range(10)]"
   ]
  },
  {
   "cell_type": "code",
   "execution_count": 31,
   "metadata": {},
   "outputs": [
    {
     "data": {
      "text/plain": [
       "[(0, 0),\n",
       " (1, 1),\n",
       " (2, 4),\n",
       " (3, 9),\n",
       " (4, 16),\n",
       " (5, 25),\n",
       " (6, 36),\n",
       " (7, 49),\n",
       " (8, 64),\n",
       " (9, 81)]"
      ]
     },
     "execution_count": 31,
     "metadata": {},
     "output_type": "execute_result"
    }
   ],
   "source": [
    "coordinates"
   ]
  },
  {
   "cell_type": "markdown",
   "metadata": {},
   "source": [
    "## <a id='2.6'>2.6. Functions</a>"
   ]
  },
  {
   "cell_type": "code",
   "execution_count": 17,
   "metadata": {},
   "outputs": [],
   "source": [
    "def fib(n):    # write Fibonacci series up to n\n",
    "   \"\"\"Print a Fibonacci series up to n.\"\"\"\n",
    "   a, b = 0, 1\n",
    "   while a < n:\n",
    "     print (a,\"\", end='')\n",
    "     a, b = b, a+b"
   ]
  },
  {
   "cell_type": "code",
   "execution_count": 19,
   "metadata": {},
   "outputs": [
    {
     "name": "stdout",
     "output_type": "stream",
     "text": [
      "0 1 1 2 3 "
     ]
    }
   ],
   "source": [
    "fib(5)"
   ]
  },
  {
   "cell_type": "code",
   "execution_count": 21,
   "metadata": {},
   "outputs": [],
   "source": [
    "#Return more than one value in a function\n",
    "def quadrados_ate_n(n):\n",
    "    return [(i,i**2) for i in range(1,n+1)]"
   ]
  },
  {
   "cell_type": "code",
   "execution_count": 22,
   "metadata": {},
   "outputs": [
    {
     "data": {
      "text/plain": [
       "[(1, 1), (2, 4), (3, 9), (4, 16), (5, 25)]"
      ]
     },
     "execution_count": 22,
     "metadata": {},
     "output_type": "execute_result"
    }
   ],
   "source": [
    "quadrados_ate_n(5)"
   ]
  },
  {
   "cell_type": "markdown",
   "metadata": {},
   "source": [
    "### Anonymous functions"
   ]
  },
  {
   "cell_type": "code",
   "execution_count": 24,
   "metadata": {},
   "outputs": [
    {
     "data": {
      "text/plain": [
       "25"
      ]
     },
     "execution_count": 24,
     "metadata": {},
     "output_type": "execute_result"
    }
   ],
   "source": [
    "sqr = lambda x: x**2\n",
    "sqr(5)"
   ]
  },
  {
   "cell_type": "code",
   "execution_count": 25,
   "metadata": {},
   "outputs": [],
   "source": [
    "#One function can return a function:\n",
    "def make_incrementor(n):\n",
    "        return lambda x: x + n"
   ]
  },
  {
   "cell_type": "code",
   "execution_count": 26,
   "metadata": {},
   "outputs": [
    {
     "data": {
      "text/plain": [
       "9"
      ]
     },
     "execution_count": 26,
     "metadata": {},
     "output_type": "execute_result"
    }
   ],
   "source": [
    "incrementa4 = make_incrementor(4)\n",
    "incrementa4(5)"
   ]
  },
  {
   "cell_type": "markdown",
   "metadata": {},
   "source": [
    "## <a id='2.7'>2.7. Classes</a>"
   ]
  },
  {
   "cell_type": "code",
   "execution_count": 14,
   "metadata": {},
   "outputs": [],
   "source": [
    "\n",
    "# Defining a new class that  has a function inside that recieves a list and removes the min integer.\n",
    "class MyList(list):\n",
    "    def remove_min(self):\n",
    "        self.remove(min(self))"
   ]
  },
  {
   "cell_type": "code",
   "execution_count": 16,
   "metadata": {},
   "outputs": [
    {
     "data": {
      "text/plain": [
       "[10, 3, 5, 2, 7, 6, 4, 8]"
      ]
     },
     "execution_count": 16,
     "metadata": {},
     "output_type": "execute_result"
    }
   ],
   "source": [
    "x = [10,3, 5, 1, 2, 7, 6, 4, 8]\n",
    "y = MyList(x)\n",
    "y\n",
    "\n",
    "y.remove_min()\n",
    "y"
   ]
  },
  {
   "cell_type": "markdown",
   "metadata": {},
   "source": [
    "## <a id='2.8'>2.8. Files</a>"
   ]
  },
  {
   "cell_type": "markdown",
   "metadata": {},
   "source": [
    "### Create files\n",
    "\n",
    "The command `%%file` allow us create a text file.\n",
    "\n",
    "    %%file script.py\n",
    "    x = 10\n",
    "    y = x**2\n",
    "    print (\"x = %d, e y = %d\" %(x,y))"
   ]
  },
  {
   "cell_type": "markdown",
   "metadata": {},
   "source": [
    "### Running code from a file\n",
    "\n",
    "To run a script: use\n",
    "\n",
    "`python <scriptname.py>`"
   ]
  },
  {
   "cell_type": "markdown",
   "metadata": {},
   "source": [
    "## <a id='2.9'>2.9. Modules</a>"
   ]
  },
  {
   "cell_type": "markdown",
   "metadata": {},
   "source": [
    "- Modules are libraries of code \n",
    "- Can be used using the command `import`\n",
    "\n",
    "E.g:\n",
    "\n",
    "    import math\n",
    "    math.pi\n",
    "    math.sqrt(10)\n",
    "    from math import pi\n",
    "\n",
    "A **namespace** is a container of names shared by objects that typically go together, and its intention is to prevent naming conflicts.\n",
    "\n",
    "E.g:\n",
    "\n",
    "    import math\n",
    "    import numpy as np\n",
    "    math.sqrt\n",
    "    np.sqrt"
   ]
  },
  {
   "cell_type": "markdown",
   "metadata": {},
   "source": [
    "What happens when you use the `import` statement:\n",
    "\n",
    "1. creates a new namespace\n",
    "2. executes the code of module within this newly created namespace\n",
    "3. creates a name (e.g. np for numpy) and this name references this new namespace"
   ]
  }
 ],
 "metadata": {
  "kernelspec": {
   "display_name": "Python 3",
   "language": "python",
   "name": "python3"
  },
  "language_info": {
   "codemirror_mode": {
    "name": "ipython",
    "version": 3
   },
   "file_extension": ".py",
   "mimetype": "text/x-python",
   "name": "python",
   "nbconvert_exporter": "python",
   "pygments_lexer": "ipython3",
   "version": "3.6.3"
  }
 },
 "nbformat": 4,
 "nbformat_minor": 2
}
