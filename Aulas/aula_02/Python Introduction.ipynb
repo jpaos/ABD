{
 "cells": [
  {
   "cell_type": "markdown",
   "metadata": {},
   "source": [
    "# Python Introduction\n",
    "In this class we talk about python programming language and we will overview to his components."
   ]
  },
  {
   "cell_type": "markdown",
   "metadata": {},
   "source": [
    "## Summary\n",
    "- <a href='#1'>1. Context and Motivation</a>\n",
    "    - <a href='#1.1'>1.1. Jupyter notebooks</a>\n",
    "- <a href='#2'>2. Python</a>\n",
    "    - <a href='#2.1'>2.1. Basic instructions</a>\n",
    "    - <a href='#2.2'>2.2. Primitive data types</a>\n",
    "    - <a href='#2.3'>2.3. Other Data types</a>\n",
    "    - <a href='#2.4'>2.4. Control Structures</a>\n",
    "    - <a href='#2.5'>2.5. Loops</a>\n",
    "    - <a href='#2.6'>2.6. Functions</a>\n",
    "    - <a href='#2.7'>2.7. Classes</a>\n",
    "    - <a href='#2.8'>2.8. Files</a>\n",
    "    - <a href='#2.9'>2.9. Modules</a>\n"
   ]
  },
  {
   "cell_type": "markdown",
   "metadata": {},
   "source": [
    "# <a id='1'>1.Context and Motivation</a>"
   ]
  },
  {
   "cell_type": "markdown",
   "metadata": {},
   "source": [
    "**Python** -  Python is a high level  interpreted programming language, object oriented, dynamic typed and strong.  \n",
    "It is used by a lots of companies such **Amazon, Google, Facebook**.  \n",
    "Recently has gain more relevant because it is easy to use and its machine learning modules."
   ]
  },
  {
   "cell_type": "markdown",
   "metadata": {},
   "source": [
    "**Jupyter Notebooks** - Are documents which can contain both code and rich elements such images, links, paragraphs etc."
   ]
  },
  {
   "cell_type": "markdown",
   "metadata": {},
   "source": [
    "**Motivation** - In this change enterprise environment we need to present **results fast**. Combining **python with jupyter** notebooks we can deliver for instance an analysis for a client fast and explainable using jupyter notebooks."
   ]
  },
  {
   "cell_type": "markdown",
   "metadata": {},
   "source": [
    "## <a id='1.1'>1.1. Jupyter notebooks</a>"
   ]
  },
  {
   "cell_type": "markdown",
   "metadata": {},
   "source": [
    "### Magic commands\n",
    "There are commands denominated `_magic command_` that starts with character `%`. \n",
    "\n",
    "- To obtain the list of commands available use `%lsmagic`.\n",
    "- For more information in general use `%magic`.\n",
    "\n",
    "One command _magic_ introduced in one unique line must start with the character `%` (_line magic_). On case of a command with multiple lines use `%%`.\n",
    "\n",
    "Magic useful commands:\n",
    "\n",
    "- `!`: Executes a `shell` command. E.g.: `! ls -l`.\n",
    "- `%pylab inline`: Load the module `numpy` (as `np`) and the module `matplotlib` \"inline\".\n",
    "- `%bash`: Executes a cell as a `bash` process. \n",
    "- `%time`: Evaluate the execution time of a command.\n",
    "- `%%latex`: Interprets a cell as latex.\n",
    "- `%timeit`: Evaluates the time of execution of a command multiple times and shows the average time.\n",
    "- `%reset`: Delete all _workspace_ the variables.\n",
    "- `%bookmark`: (Allow to save a location in hard drive, i.e. actual directory to use later.\n",
    "- `%hist -o`: (history returns the list of executed commands)."
   ]
  },
  {
   "cell_type": "markdown",
   "metadata": {},
   "source": [
    "### Clear workspace\n",
    "\n",
    "It is possible delete all the variables and defined function or imported from one time using `%reset` command. the `f` don't ask for confirmation.\n",
    "\n",
    "    %reset -f\n",
    "    %reset"
   ]
  },
  {
   "cell_type": "markdown",
   "metadata": {},
   "source": [
    "### Tab completion\n",
    "One of the best functionality is tab completion. It allows complete the command writing.   \n",
    "Works with directories and files.\n",
    "\n",
    "Try to write:  \n",
    "`pri`   \n",
    "`print(\"hello\",`"
   ]
  },
  {
   "cell_type": "markdown",
   "metadata": {},
   "source": [
    "### Detailed information about defined objects\n",
    "\n",
    "It is possible visualize which objects are defined in the workspace using the command `whos`.\n",
    "\n",
    "    whos"
   ]
  },
  {
   "cell_type": "markdown",
   "metadata": {},
   "source": [
    "### Help about a command\n",
    "To get help about a command can use `?` follow the command: `whos?`\n",
    "\n",
    "There is another commands to obtain help such:  `help()` and `dir()`. Note: the command `dir()` lists the methods of some object or instance.\n",
    "    \n",
    "    whos?"
   ]
  },
  {
   "cell_type": "markdown",
   "metadata": {},
   "source": [
    "### Profiling\n",
    "\n",
    "`Python` has a lot of tools for _profiling_. Such:\n",
    "\n",
    "    %timeit [x*x for x in range(10000)] \n",
    "    %run -t script.py\n",
    "    %prun (ou %run -p) script.py"
   ]
  },
  {
   "cell_type": "markdown",
   "metadata": {},
   "source": [
    "### Save workspace\n",
    "The workspace the variables, can be saved using module `pickle`.   \n",
    "\n",
    "    pickle.dump(x, open( \"test.bin\", \"wb\" ))\n",
    "    y = pickle.load(open( \"test.bin\", \"rb\" ))\n",
    "    pickle.dump([x, y], open( \"test.bin\", \"wb\" ))\n",
    "    (x,y) = pickle.load(open( \"test.bin\", \"rb\" ))"
   ]
  },
  {
   "cell_type": "markdown",
   "metadata": {},
   "source": [
    "# <a id='2'>2. Python </a>"
   ]
  },
  {
   "cell_type": "markdown",
   "metadata": {},
   "source": [
    "## <a id='2.1'>2.1. Basic instructions</a>"
   ]
  },
  {
   "cell_type": "markdown",
   "metadata": {},
   "source": [
    "Try the follow simple instructions:\n",
    "    \n",
    "    1+1\n",
    "    4+2*3\n",
    "    6 / 7\n",
    "    6 // 7 (floor or integer division)\n",
    "    x = 2\n",
    "    y = 3\n",
    "    z = x+y\n",
    "    print(z)\n",
    "    print(\"Hello world\")"
   ]
  },
  {
   "cell_type": "markdown",
   "metadata": {},
   "source": [
    "## <a id='2.2'>2.2. Primitive data types</a>"
   ]
  },
  {
   "cell_type": "markdown",
   "metadata": {},
   "source": [
    "## String\n",
    "\n",
    "String the type `string` allow us to save a character sequence. A character sequence is defined between \"\" or ''.\n",
    "\n",
    "Special characters (_escape characters_) can be defined using the character `\\`  follow the one letter. E.g. `\\n` defines a new line.\n",
    "\n",
    "    x=\"Hello\"\n",
    "    print(x)\n",
    "    y=\"hello\\neverything fine?\"\n",
    "    print(y) "
   ]
  },
  {
   "cell_type": "markdown",
   "metadata": {},
   "source": [
    "The command `print` accepts multiple arguments and options:\n",
    "\n",
    "    print(x,y)\n",
    "    print(\"Hello \", end='')\n",
    "    print(\"Everything fine?)\n",
    "    "
   ]
  },
  {
   "cell_type": "code",
   "execution_count": null,
   "metadata": {},
   "outputs": [],
   "source": [
    "## to Upper \n",
    "x = \"hello\"\n",
    "x.upper()"
   ]
  },
  {
   "cell_type": "code",
   "execution_count": null,
   "metadata": {},
   "outputs": [],
   "source": [
    "type(x) # check the type object x"
   ]
  },
  {
   "cell_type": "code",
   "execution_count": null,
   "metadata": {},
   "outputs": [],
   "source": [
    "dir(x) # check the methods of string type x"
   ]
  },
  {
   "cell_type": "code",
   "execution_count": null,
   "metadata": {},
   "outputs": [],
   "source": [
    "help(x.upper)"
   ]
  },
  {
   "cell_type": "code",
   "execution_count": null,
   "metadata": {},
   "outputs": [],
   "source": [
    "y = \"hello\\neverything\\t fine?\"\n",
    "print(y) # change the string line after \"hello\" and put a tab between \"everything\" and \"fine\""
   ]
  },
  {
   "cell_type": "code",
   "execution_count": null,
   "metadata": {},
   "outputs": [],
   "source": [
    "len(y) # len of a String"
   ]
  },
  {
   "cell_type": "markdown",
   "metadata": {},
   "source": [
    "### Concatenation and Length\n",
    "\n",
    "    s = \"Hello\" + \"margarida\"\n",
    "    print(s)\n",
    "    \n",
    "    len(s)\n",
    "    \n",
    "    s=\"-\"*1000\n",
    "    print(s)"
   ]
  },
  {
   "cell_type": "markdown",
   "metadata": {},
   "source": [
    "### Slices\n",
    "Allow the access of an element or set of elements in a variable."
   ]
  },
  {
   "cell_type": "markdown",
   "metadata": {},
   "source": [
    "`s[begin : end]`. E.g.: be `s = \"Hello\"`.\n",
    "\n",
    "    s[1:4]\n",
    "    s[1:]\n",
    "    s[:]\n",
    "    s[1:100]\n",
    "\n"
   ]
  },
  {
   "cell_type": "markdown",
   "metadata": {},
   "source": [
    "**Important:**\n",
    "\n",
    "    s[:n] + s[n:] == s"
   ]
  },
  {
   "cell_type": "markdown",
   "metadata": {},
   "source": [
    "### Operators\n",
    "\n",
    "#### Arithmetic  Operators\n",
    "\n",
    "Operator | Description | Example\n",
    ":-:|-|- \n",
    "`+` | Addiction | x = y+2\n",
    "`-` | Subtraction | x = y-2\n",
    "`*` | Multiplication | x = 3*y\n",
    "`/` | Division (by default integer if operands are integers) | x = y / 2\n",
    "`//` | Integer division (regardless of operands) | x = 3.0 // 2.\n",
    "`**` | Exponentiation | x = 2**4\n",
    "`%` | Rest of the whole division | x = 5%4"
   ]
  },
  {
   "cell_type": "markdown",
   "metadata": {},
   "source": [
    "#### Relational Operators \n",
    "\n",
    "Operator | Description\n",
    ":-:|-\n",
    "`<` | Less than\n",
    "`<=` | Less or equal than\n",
    "`>` | Greater than\n",
    "`>=` | Greater or equal than\n",
    "`==` | Equal\n",
    "`!=` or `<>` | Different "
   ]
  },
  {
   "cell_type": "markdown",
   "metadata": {},
   "source": [
    "#### Logical Operators\n",
    "\n",
    "Operator | Description \n",
    ":-:|-\n",
    "`or` | Disjunction - \"or\"\n",
    "`and` | Conjunction - \"and\"\n",
    "`not` | Negation - \"not\""
   ]
  },
  {
   "cell_type": "markdown",
   "metadata": {},
   "source": [
    "#### Inclusion Operators \n",
    "`in` e `not in`\n",
    "\n",
    "    character = \"s\"\n",
    "    word = \"operators\"\n",
    "    character in word"
   ]
  },
  {
   "cell_type": "markdown",
   "metadata": {},
   "source": [
    "#### Identity Operators \n",
    "\n",
    "In `python` most of the times the operator `=` does not copy the object but return a reference  for the same.  for testing if two objects share the same memory position can be used identity operators.\n",
    "\n",
    "Operador | Description\n",
    ":-:|-\n",
    "`is` | Returns true if two variables points the same object.\n",
    "`is not` | Returns false if two variables do not point to the same object. "
   ]
  },
  {
   "cell_type": "markdown",
   "metadata": {},
   "source": [
    "### Attention!\n",
    "`==` and `!=` vs `is` and `is not`\n",
    "\n",
    "    [2,3] == [3,3]\n",
    "    [2,3] == [2,3]\n",
    "    [2,3] is [2,3]\n",
    "    \n",
    "    x=[2,3]\n",
    "    y = x\n",
    "    y is x\n",
    "    \n",
    "    x=[2,3]\n",
    "    y = x\n",
    "    y is x\n",
    "    \n",
    "**Note: Check the id of an object:**\n",
    "\n",
    "    id(x)\n",
    "    id(y)\n",
    "    \n",
    "For copy complex structures can be used the module `copy`.\n",
    "\n",
    "    import copy\n",
    "    x = [1,[2]]\n",
    "    y = copy.copy(x)"
   ]
  },
  {
   "cell_type": "markdown",
   "metadata": {},
   "source": [
    "### Integer and Decimals\n",
    "\n",
    "If an integer value is set into a variable the type of data is (`int`). If the value has decimal part, it is a `float`.\n",
    "\n",
    "    x=2\n",
    "    type(x)\n",
    "    \n",
    "    x=2.\n",
    "    type(x)"
   ]
  },
  {
   "cell_type": "markdown",
   "metadata": {},
   "source": [
    "### Boolean\n",
    "\n",
    "The type of data `boolean` allow us to save two values: true(`True`) or false (`False`).\n",
    "\n",
    "    x = True\n",
    "    y = False\n",
    "    type(y)"
   ]
  },
  {
   "cell_type": "markdown",
   "metadata": {},
   "source": [
    "## <a id='2.3'>2.3. Other data types</a>"
   ]
  },
  {
   "cell_type": "markdown",
   "metadata": {},
   "source": [
    "## Lists\n",
    "\n",
    "Lists are **mutable** sequences of objects of any type.\n",
    "\n",
    "    lista = ['machine', 'learning', 2019]\n",
    "    numbers = [1,2,3,4]\n",
    "    lista[2] = 'is the best'\n",
    "    del lista[2]\n",
    "    numbers.append(10)\n",
    "    \n",
    "    x = [12, 14, 16]\n",
    "    numbers + x\n",
    "    \n",
    "    numbers.reverse()\n",
    "    \n",
    "    names = [\"Joao\", \"Antonio\", \"Pedro\"]\n",
    "    names.sort() \n",
    "    \n",
    "    len(names)"
   ]
  },
  {
   "cell_type": "markdown",
   "metadata": {},
   "source": [
    "## Tuples\n",
    "\n",
    "Tuples are **immutable** sequences typically used to store heterogeneous data. It is a single object that consists of several different parts.\n",
    "\n",
    "Once common use is to return more than one object from a Python function."
   ]
  },
  {
   "cell_type": "code",
   "execution_count": null,
   "metadata": {},
   "outputs": [],
   "source": [
    "tup1 = ('big', 'data', 2019)\n",
    "tup2 = (1,2,3,4,5,6)"
   ]
  },
  {
   "cell_type": "code",
   "execution_count": null,
   "metadata": {},
   "outputs": [],
   "source": [
    "tup1[1:]"
   ]
  },
  {
   "cell_type": "markdown",
   "metadata": {},
   "source": [
    "## Ranges\n",
    "\n",
    "Ranges are immutable sequences of integers (range object not a list)"
   ]
  },
  {
   "cell_type": "code",
   "execution_count": null,
   "metadata": {},
   "outputs": [],
   "source": [
    "range(0,5)"
   ]
  },
  {
   "cell_type": "code",
   "execution_count": null,
   "metadata": {},
   "outputs": [],
   "source": [
    "list(range(5))"
   ]
  },
  {
   "cell_type": "markdown",
   "metadata": {},
   "source": [
    "## Sets\n",
    "\n",
    "`sets` are a collection of elements without repetitions. The objects of type  `set` support math operations such as `union`, `intersection`, `difference` e `symmetric difference`.\n",
    "\n",
    "    colors = {'blue', 'red', 'green', 'orange', 'red'}\n",
    "    colors\n",
    "    \n",
    "    'green' in colors\n",
    "    'yellow' in colors\n",
    "    \n",
    "    lesscolors = set(['blue', 'green', 'yellow'])\n",
    "    \n",
    "    colors - lesscolors\n",
    "    colors | lesscolors\n",
    "    colors & lesscolors\n",
    "    colors ^ lesscolors\n",
    "\n",
    "\n",
    "Add or remove elements\n",
    "\n",
    "    colors.add('black')\n",
    "    colors.pop()"
   ]
  },
  {
   "cell_type": "markdown",
   "metadata": {},
   "source": [
    "## Dictionaries\n",
    "\n",
    "Dictionaries are maps between _key objects_ for _value objects_.\n",
    "\n",
    "The _key objects_ must be unchanging!\n",
    "\n",
    "The dictionaries can be created with `{ }` or using constructor  `dict()`:\n",
    "\n",
    "    phones = {'joao': 123, 'pedro': 124, 'antónio': 125}\n",
    "    rooms = dict([('joao', 'D604'), ('pedro', 'D605')])\n",
    "    months = dict(jan=31, fev=29, mar=31)\n",
    "    \n",
    "#### Access dictionary elements     \n",
    "    \n",
    "The access of a dictionary elements do it using `[ ]`  and indicating the corresponding _key_:\n",
    "    \n",
    "    phones['joao']\n",
    "    rooms['pedro'] = 'D606'\n",
    "    \n",
    "Delete a element we use del command `del`:\n",
    "    \n",
    "    del rooms['pedro']   # Remove the entry with 'pedro' key. \n",
    "    months.clear()      # Remove all the dictionary elements.\n",
    "    del months         # Delete the dictionary.\n",
    "    \n",
    "#### Methods\n",
    "\n",
    "The following table lists a set of methods available for dictionary objects (note that there are more).\n",
    "\n",
    "Method | Description\n",
    "-|-\n",
    "`dict.clear()` | Remove all dictionary elements `dict`.\n",
    "`dict.copy()` | Returns a copy of the dictionary `dict`.\n",
    "`dict.keys()` | Returns a list with dictionary `keys`. \n",
    "`dict.values()` | Returns a list of dictionary elements `dict`.\n",
    "`dict.items()` | Returns a list of tuples (`key`, `value`) from the dictionary `dict`.\n",
    "`dict.has_key(key)` | Returns `true` if the `key` exists in the dictionary `dict`."
   ]
  },
  {
   "cell_type": "markdown",
   "metadata": {},
   "source": [
    "## <a id='2.4'>2.4. Control structures</a>"
   ]
  },
  {
   "cell_type": "markdown",
   "metadata": {},
   "source": [
    "## Indentation\n",
    "\n",
    "- on code block starts with character`:`\n",
    "- use o TAB\n",
    "- select the code block and use TAB or shift TAB"
   ]
  },
  {
   "cell_type": "code",
   "execution_count": null,
   "metadata": {},
   "outputs": [],
   "source": [
    "x=3"
   ]
  },
  {
   "cell_type": "markdown",
   "metadata": {},
   "source": [
    "### Ifs"
   ]
  },
  {
   "cell_type": "code",
   "execution_count": null,
   "metadata": {},
   "outputs": [],
   "source": [
    "if x>5:\n",
    "    print(\"Bigger than que 5\")\n",
    "else:\n",
    "    print(\"Less que 5\")"
   ]
  },
  {
   "cell_type": "code",
   "execution_count": null,
   "metadata": {},
   "outputs": [],
   "source": [
    "if x>5:\n",
    "    print(\"Bigger than 5\")\n",
    "elif x==5:\n",
    "    print(\"Equal to 5\")\n",
    "else:\n",
    "    print(\"Less than 5\")"
   ]
  },
  {
   "cell_type": "markdown",
   "metadata": {},
   "source": [
    "## <a id='2.5'>2.5. Loops</a>"
   ]
  },
  {
   "cell_type": "code",
   "execution_count": null,
   "metadata": {},
   "outputs": [],
   "source": [
    "x = 10\n",
    "while x > 0:\n",
    "    print(x)\n",
    "    x-=1"
   ]
  },
  {
   "cell_type": "code",
   "execution_count": null,
   "metadata": {},
   "outputs": [],
   "source": [
    "new_list = ['Hello', 'Good', 'Morning']\n",
    "for item in new_list:\n",
    "    print(item)"
   ]
  },
  {
   "cell_type": "code",
   "execution_count": null,
   "metadata": {},
   "outputs": [],
   "source": [
    "for i in range (2,10,2):\n",
    "    print(i)"
   ]
  },
  {
   "cell_type": "code",
   "execution_count": null,
   "metadata": {},
   "outputs": [],
   "source": [
    "coordinates = [(i, i**2) for i in range(10)]"
   ]
  },
  {
   "cell_type": "code",
   "execution_count": null,
   "metadata": {},
   "outputs": [],
   "source": [
    "coordinates"
   ]
  },
  {
   "cell_type": "markdown",
   "metadata": {},
   "source": [
    "## <a id='2.6'>2.6. Functions</a>"
   ]
  },
  {
   "cell_type": "code",
   "execution_count": null,
   "metadata": {},
   "outputs": [],
   "source": [
    "def fib(n):    # write Fibonacci series up to n\n",
    "   \"\"\"Print a Fibonacci series up to n.\"\"\"\n",
    "   a, b = 0, 1\n",
    "   while a < n:\n",
    "     print (a,\"\", end='')\n",
    "     a, b = b, a+b"
   ]
  },
  {
   "cell_type": "code",
   "execution_count": null,
   "metadata": {},
   "outputs": [],
   "source": [
    "fib(5)"
   ]
  },
  {
   "cell_type": "code",
   "execution_count": null,
   "metadata": {},
   "outputs": [],
   "source": [
    "# Return more than one value in a function\n",
    "def quadrados_ate_n(n):\n",
    "    return [(i,i**2) for i in range(1,n+1)]"
   ]
  },
  {
   "cell_type": "code",
   "execution_count": null,
   "metadata": {},
   "outputs": [],
   "source": [
    "quadrados_ate_n(5)"
   ]
  },
  {
   "cell_type": "markdown",
   "metadata": {},
   "source": [
    "### Anonymous functions"
   ]
  },
  {
   "cell_type": "code",
   "execution_count": null,
   "metadata": {},
   "outputs": [],
   "source": [
    "sqr = lambda x: x**2\n",
    "sqr(5)"
   ]
  },
  {
   "cell_type": "code",
   "execution_count": null,
   "metadata": {},
   "outputs": [],
   "source": [
    "#One function can return a function:\n",
    "def make_incrementor(n):\n",
    "        return lambda x: x + n"
   ]
  },
  {
   "cell_type": "code",
   "execution_count": null,
   "metadata": {},
   "outputs": [],
   "source": [
    "incrementa4 = make_incrementor(4)\n",
    "incrementa4(5)"
   ]
  },
  {
   "cell_type": "markdown",
   "metadata": {},
   "source": [
    "## <a id='2.7'>2.7. Classes</a>"
   ]
  },
  {
   "cell_type": "code",
   "execution_count": null,
   "metadata": {},
   "outputs": [],
   "source": [
    "# Defining a new class with a function that receives a list and removes the min integer. \n",
    "\n",
    "class MyList(list):\n",
    "    def remove_min(self):\n",
    "        self.remove(min(self))"
   ]
  },
  {
   "cell_type": "code",
   "execution_count": null,
   "metadata": {},
   "outputs": [],
   "source": [
    "x = [10,3, 5, 1, 2, 7, 6, 4, 8]\n",
    "y = MyList(x)\n",
    "y\n",
    "\n",
    "y.remove_min()\n",
    "y"
   ]
  },
  {
   "cell_type": "markdown",
   "metadata": {},
   "source": [
    "## <a id='2.8'>2.8. Files</a>"
   ]
  },
  {
   "cell_type": "markdown",
   "metadata": {},
   "source": [
    "### Create files\n",
    "\n",
    "The command `%%file` allow us to create a text file.\n",
    "\n",
    "    %%file script.py\n",
    "    x = 10\n",
    "    y = x**2\n",
    "    print (\"x = %d, e y = %d\" %(x,y))"
   ]
  },
  {
   "cell_type": "markdown",
   "metadata": {},
   "source": [
    "### Running code from a file\n",
    "\n",
    "To run a python script:\n",
    "\n",
    "`python <scriptname.py>`"
   ]
  },
  {
   "cell_type": "markdown",
   "metadata": {},
   "source": [
    "## <a id='2.9'>2.9. Modules</a>"
   ]
  },
  {
   "cell_type": "markdown",
   "metadata": {},
   "source": [
    "- Modules are libraries of code. \n",
    "- Can be used using the command `import`.\n",
    "\n",
    "E.g.:\n",
    "\n",
    "    import math\n",
    "    math.pi\n",
    "    math.sqrt(10)\n",
    "    from math import pi\n",
    "\n",
    "A **namespace** is a container of names shared by objects that typically go together, and its intention is to prevent naming conflicts.\n",
    "\n",
    "E.g.:\n",
    "\n",
    "    import math\n",
    "    import numpy as np\n",
    "    math.sqrt\n",
    "    np.sqrt"
   ]
  },
  {
   "cell_type": "markdown",
   "metadata": {},
   "source": [
    "What happens when you use the `import` statement?\n",
    "\n",
    "1. creates a new namespace.\n",
    "2. executes the code of module within this newly created namespace.\n",
    "3. creates a name (e.g. np for numpy) and this name references this new namespace."
   ]
  }
 ],
 "metadata": {
  "kernelspec": {
   "display_name": "Python 3",
   "language": "python",
   "name": "python3"
  },
  "language_info": {
   "codemirror_mode": {
    "name": "ipython",
    "version": 3
   },
   "file_extension": ".py",
   "mimetype": "text/x-python",
   "name": "python",
   "nbconvert_exporter": "python",
   "pygments_lexer": "ipython3",
   "version": "3.6.3"
  }
 },
 "nbformat": 4,
 "nbformat_minor": 2
}
