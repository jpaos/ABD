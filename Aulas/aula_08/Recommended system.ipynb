{
 "cells": [
  {
   "cell_type": "markdown",
   "metadata": {},
   "source": [
    "# Recommender System"
   ]
  },
  {
   "cell_type": "markdown",
   "metadata": {},
   "source": [
    "In this lesson we will create a Recommended system using movie ratin"
   ]
  },
  {
   "cell_type": "markdown",
   "metadata": {},
   "source": [
    "## Summary\n",
    "- <a href='#1'>1. Context and Motivation</a>\n",
    "- <a href='#2'>2. Types of Recomender Systems</a>\n",
    "    - <a href='#2.1'>2.1. Popularity Based </a>\n",
    "    - <a href='#2.2'>2.2. Content Based</a>\n",
    "    - <a href='#2.3'>2.3. Collaborative Filtering based</a>\n",
    "    - <a href='#2.4'>2.4. Hybrid</a>\n",
    "    - <a href='#2.5'>2.5. Association Rule Mining based </a>\n",
    "- <a href='#3'>3. CF based Example</a>\n",
    "    - <a href='#3.1'>3.1. Dataset</a>\n",
    "    - <a href='#3.2'>3.2. Exploratory Data Analysis</a>\n",
    "    - <a href='#3.3'>3.3. Feature Engineering</a>\n",
    "    - <a href='#3.4'>3.4. Splitting the Dataset</a>\n",
    "    - <a href='#3.5'>3.5. Build and Train Recommender Model</a>\n",
    "    - <a href='#3.6'>3.6. Predictions and Evaluation on Test Data</a>\n",
    "    - <a href='#3.7'>3.7. Recommend Top Movies That Active User Might Like</a>\n",
    "- <a href='#4'>4.  Exercises</a>  \n",
    "- <a href='#5'>5.  References</a>"
   ]
  },
  {
   "cell_type": "markdown",
   "metadata": {},
   "source": [
    "# <a id='1'>1. Context and Motivation</a>\n",
    "\n",
    "Recommender systems can be used for multiple purposes in the sense of recommending various things to users. \n",
    "For instance, some of them might fall in the categories below:   \n",
    "* Retail Products\n",
    "* Jobs \n",
    "* Connections/Friends\n",
    "* Movies/Music/Videos/Books/Articles\n",
    "* Ads\n",
    "\n",
    "Recommender systems take care of the critical aspect that the product or content that is being recommended should either be something which users might like but would not have discovered on their own.\n",
    "\n",
    "**Examples:** Amazon products, Facebook’s friend suggestions, LinkedIn’s “People you may know,” Netflix’s movie, YouTube’s videos, Spotify’s music, and Coursera’s courses"
   ]
  },
  {
   "cell_type": "markdown",
   "metadata": {},
   "source": [
    "# <a id='2'>2. Types of Recomender Systems</a>\n",
    "\n",
    "There are 5 types of Recommender Systems:\n",
    "\n",
    "* Popularity Based\n",
    "* Content Based  \n",
    "* **Collaborative Filtering based** (created in this class)\n",
    "* Hybrid \n",
    "* Association Rule Mining based"
   ]
  },
  {
   "cell_type": "markdown",
   "metadata": {},
   "source": [
    "## <a id='2.1'>2.1 Popularity Based</a> \n",
    "\n",
    "This Recomender System is the most basic and the simplest one. It recommends items/content based on bought/viewed/liked/downloaded by most of the users.   \n",
    "**It doesn’t produce relevant results as the recommendations stay the same for every user.**\n",
    "\n"
   ]
  },
  {
   "cell_type": "markdown",
   "metadata": {},
   "source": [
    "## <a id='2.2'>2.2 Content Based</a> \n",
    "\n",
    "**Item Profile** \n",
    "\n",
    "This type of Recommender System recommends similar items to the users that the user has liked in the past.   \n",
    "So, the whole idea is to calculate a similarity score between any two items and recommended to the user based upon the profile of the user’s interests.\n",
    "\n",
    "\n",
    "**User  Profile**\n",
    "\n",
    "The other component in content based Recommender System is the User Profile that is created using item profiles that the user has liked or rated.\n",
    "\n",
    "**Advantages:** \n",
    "* Content based RC works independently of other users’ data and hence can be applied to an individual’s historical data.\n",
    "* The rationale behind RC can be easily understood as the recommendations are based on the similarity score between the User Profile and Item Profile.\n",
    "* New and unknown items can also be recommended to users just based on historical interests and preferences of users.\n",
    "\n",
    "\n",
    "**Limitations:**\n",
    "* Item profile can be biased and might not reflect exact attribute values and might lead to incorrect recommendations.\n",
    "* Recommendations entirely depend on the history of the user and can only recommend items that are like the historically watched/liked items and do not take into consideration the new interests or liking of the visitor."
   ]
  },
  {
   "cell_type": "markdown",
   "metadata": {},
   "source": [
    "## <a id='2.3'>2.3 Collaborative Filtering Based</a> \n",
    "\n",
    "Content Filtering based Recommender Systems doesn’t require the item attributes or description for recommendations; instead it works on user item interactions. These interactions can be measured in various ways such as ratings, item bought,time spent, shared on another platform, etc.\n",
    "\n",
    "* Which movie to watch?\n",
    "* Which book to read?\n",
    "* Which restaurant to go to? \n",
    "* Which place to travel to?\n",
    "\n",
    "**The key task in collaborative filtering is to find the users who are most similar to you.**\n",
    "\n",
    "\n",
    "**Advantages:** \n",
    "* Content information of the item is not required, and recommendations can be made based on valuable user item interactions.\n",
    "* Personalizing experience based on other users.\n",
    "\n",
    "**Limitations:**\n",
    "* Cold Start Problem: If the user has no historical data of item interactions. then RC cannot predict the k-nearest neighbors for the new user and cannot make recommendations.\n",
    "* Missing values: Since the items are huge in number and very few users interact with all the items, some items are never rated by users and can’t be recommended.\n",
    "* Cannot recommend new or unrated items: If the item is new and yet to be seen by the user, it can’t be recommended to existing users until other users interact with it. \n",
    "* Poor Accuracy: It doesn’t perform that well as many components keep changing such as interests of users, limited shelf life of items, and very few ratings of items.\n",
    "\n"
   ]
  },
  {
   "cell_type": "markdown",
   "metadata": {},
   "source": [
    "## <a id='2.4'>2.4 Hybrid</a> \n",
    "Hybrid recomendation systems is a combination of multiple recommender systems together for instance use content base filter and than apply colaborative filtering to the otput."
   ]
  },
  {
   "cell_type": "markdown",
   "metadata": {},
   "source": [
    "## <a id='2.4'>2.4 Association Rule Mining Based</a> \n",
    "Basically is a recomender systems that uses association rules like apriori algorithm to recommend items most frequent brogth"
   ]
  },
  {
   "cell_type": "markdown",
   "metadata": {},
   "source": [
    "# <a id='3'>3. CF based Example</a>\n",
    "This section focuses on building an **Collaborative Filtering  Recommendation System from scratch using the ALS (Alternating Least Square) method**."
   ]
  },
  {
   "cell_type": "markdown",
   "metadata": {},
   "source": [
    "## <a id='3.1'>3.1 Dataset</a> "
   ]
  },
  {
   "cell_type": "markdown",
   "metadata": {},
   "source": [
    "The dataset that we are going to use for this chapter is a subset from a famous open sourced movie lens dataset and contains a total of 0.1 million (100000)records with three columns (User_Id,title,rating).\n",
    "\n",
    "Put the data in **hdfs**: `hdfs dfs -put movie_ratings_df`"
   ]
  },
  {
   "cell_type": "code",
   "execution_count": null,
   "metadata": {},
   "outputs": [],
   "source": [
    "df=spark.read.csv('movie_ratings_df.csv',inferSchema=True,header=True) # Read the dataset"
   ]
  },
  {
   "cell_type": "markdown",
   "metadata": {},
   "source": [
    "## <a id='3.2'>3.2 Exploratory Data Analysis</a> "
   ]
  },
  {
   "cell_type": "code",
   "execution_count": null,
   "metadata": {},
   "outputs": [],
   "source": [
    "print((df.count(), len(df.columns))) # Number of rows and columns"
   ]
  },
  {
   "cell_type": "code",
   "execution_count": null,
   "metadata": {},
   "outputs": [],
   "source": [
    "df.printSchema() # schema"
   ]
  },
  {
   "cell_type": "code",
   "execution_count": null,
   "metadata": {},
   "outputs": [],
   "source": [
    "from pyspark.sql.functions import rand"
   ]
  },
  {
   "cell_type": "code",
   "execution_count": null,
   "metadata": {},
   "outputs": [],
   "source": [
    "df.orderBy(rand()).show(10,False) # random sample from dataset"
   ]
  },
  {
   "cell_type": "code",
   "execution_count": null,
   "metadata": {},
   "outputs": [],
   "source": [
    "df.groupBy('userId').count().orderBy('count',ascending=False).show(10,False)  "
   ]
  },
  {
   "cell_type": "code",
   "execution_count": null,
   "metadata": {},
   "outputs": [],
   "source": [
    "# The user with the highest number of records has rated 737 movies."
   ]
  },
  {
   "cell_type": "code",
   "execution_count": null,
   "metadata": {},
   "outputs": [],
   "source": [
    "df.groupBy('userId').count().orderBy('count',ascending=True).show(10,False)"
   ]
  },
  {
   "cell_type": "code",
   "execution_count": null,
   "metadata": {},
   "outputs": [],
   "source": [
    "# Each user has rated at least 20 movies"
   ]
  },
  {
   "cell_type": "code",
   "execution_count": null,
   "metadata": {},
   "outputs": [],
   "source": [
    "df.groupBy('title').count().orderBy('count',ascending=False).show(10,False)"
   ]
  },
  {
   "cell_type": "code",
   "execution_count": null,
   "metadata": {},
   "outputs": [],
   "source": [
    "# The movie with highest number of ratings is Star Wars (1977), has been rated 583 times."
   ]
  },
  {
   "cell_type": "markdown",
   "metadata": {},
   "source": [
    "## <a id='3.3'>3.3 Feature Engineering</a> "
   ]
  },
  {
   "cell_type": "code",
   "execution_count": null,
   "metadata": {},
   "outputs": [],
   "source": [
    "from pyspark.ml.feature import StringIndexer, IndexToString"
   ]
  },
  {
   "cell_type": "code",
   "execution_count": null,
   "metadata": {},
   "outputs": [],
   "source": [
    "# Convert movie title column from categorical to numerical values using StringIndexer\n",
    "stringIndexer = StringIndexer(inputCol=\"title\", outputCol=\"title_new\") "
   ]
  },
  {
   "cell_type": "code",
   "execution_count": null,
   "metadata": {},
   "outputs": [],
   "source": [
    "model = stringIndexer.fit(df)"
   ]
  },
  {
   "cell_type": "code",
   "execution_count": null,
   "metadata": {},
   "outputs": [],
   "source": [
    "indexed = model.transform(df)"
   ]
  },
  {
   "cell_type": "code",
   "execution_count": null,
   "metadata": {},
   "outputs": [],
   "source": [
    "indexed.show(10)"
   ]
  },
  {
   "cell_type": "code",
   "execution_count": null,
   "metadata": {},
   "outputs": [],
   "source": [
    "indexed.groupBy('title_new').count().orderBy('count',ascending=False).show(10,False)"
   ]
  },
  {
   "cell_type": "markdown",
   "metadata": {},
   "source": [
    "## <a id='3.4'>3.4 Splitting the Dataset</a> "
   ]
  },
  {
   "cell_type": "code",
   "execution_count": null,
   "metadata": {},
   "outputs": [],
   "source": [
    "train,test=indexed.randomSplit([0.75,0.25])"
   ]
  },
  {
   "cell_type": "code",
   "execution_count": null,
   "metadata": {},
   "outputs": [],
   "source": [
    "train.count()"
   ]
  },
  {
   "cell_type": "code",
   "execution_count": null,
   "metadata": {},
   "outputs": [],
   "source": [
    "test.count()"
   ]
  },
  {
   "cell_type": "markdown",
   "metadata": {},
   "source": [
    "## <a id='3.5'>3.5 Build and Train Recommender Model</a> "
   ]
  },
  {
   "cell_type": "code",
   "execution_count": null,
   "metadata": {},
   "outputs": [],
   "source": [
    "from pyspark.ml.recommendation import ALS"
   ]
  },
  {
   "cell_type": "markdown",
   "metadata": {},
   "source": [
    "ALS finds a K-dimensional feature vector for each user and item such that the dot product of\n",
    "each user’s feature vector with each item’s feature vector approximates the user’s rating for that\n",
    "item.\n",
    "\n",
    "See https://spark.apache.org/docs/2.2.0/api/python/pyspark.ml.html#pyspark.ml.recommendation.ALS"
   ]
  },
  {
   "cell_type": "code",
   "execution_count": null,
   "metadata": {},
   "outputs": [],
   "source": [
    "rec=ALS(maxIter=10,regParam=0.01,userCol='userId',itemCol='title_new',ratingCol='rating',nonnegative=True, coldStartStrategy=\"drop\")"
   ]
  },
  {
   "cell_type": "code",
   "execution_count": null,
   "metadata": {},
   "outputs": [],
   "source": [
    "rec_model=rec.fit(train)"
   ]
  },
  {
   "cell_type": "markdown",
   "metadata": {},
   "source": [
    "## <a id='3.6'>3.6 Predictions and Evaluation on Test Data</a> "
   ]
  },
  {
   "cell_type": "code",
   "execution_count": null,
   "metadata": {},
   "outputs": [],
   "source": [
    "predicted_ratings=rec_model.transform(test)"
   ]
  },
  {
   "cell_type": "code",
   "execution_count": null,
   "metadata": {},
   "outputs": [],
   "source": [
    "predicted_ratings.printSchema()"
   ]
  },
  {
   "cell_type": "code",
   "execution_count": null,
   "metadata": {},
   "outputs": [],
   "source": [
    "predicted_ratings.orderBy(rand()).show(10)"
   ]
  },
  {
   "cell_type": "code",
   "execution_count": null,
   "metadata": {},
   "outputs": [],
   "source": [
    "from pyspark.ml.evaluation import RegressionEvaluator"
   ]
  },
  {
   "cell_type": "code",
   "execution_count": null,
   "metadata": {},
   "outputs": [],
   "source": [
    "# metrica Raiz quadrada do desvio padrão\n",
    "evaluator=RegressionEvaluator(metricName='rmse',predictionCol='prediction',labelCol='rating') "
   ]
  },
  {
   "cell_type": "code",
   "execution_count": null,
   "metadata": {},
   "outputs": [],
   "source": [
    "rmse=evaluator.evaluate(predicted_ratings)"
   ]
  },
  {
   "cell_type": "code",
   "execution_count": null,
   "metadata": {},
   "outputs": [],
   "source": [
    "print(rmse)"
   ]
  },
  {
   "cell_type": "markdown",
   "metadata": {},
   "source": [
    "## <a id='3.7'>3.7 Recommend Top Movies That Active User Might Like</a> "
   ]
  },
  {
   "cell_type": "code",
   "execution_count": null,
   "metadata": {},
   "outputs": [],
   "source": [
    "unique_movies=indexed.select('title_new').distinct()"
   ]
  },
  {
   "cell_type": "code",
   "execution_count": null,
   "metadata": {},
   "outputs": [],
   "source": [
    "unique_movies.count()"
   ]
  },
  {
   "cell_type": "code",
   "execution_count": null,
   "metadata": {},
   "outputs": [],
   "source": [
    "a = unique_movies.alias('a')"
   ]
  },
  {
   "cell_type": "code",
   "execution_count": null,
   "metadata": {},
   "outputs": [],
   "source": [
    "user_id=85"
   ]
  },
  {
   "cell_type": "code",
   "execution_count": null,
   "metadata": {},
   "outputs": [],
   "source": [
    "# Filter the movies that this active user has already rated or seen.\n",
    "\n",
    "watched_movies=indexed.filter(indexed['userId'] ==  user_id).select('title_new').distinct()  "
   ]
  },
  {
   "cell_type": "code",
   "execution_count": null,
   "metadata": {},
   "outputs": [],
   "source": [
    "watched_movies.count()"
   ]
  },
  {
   "cell_type": "code",
   "execution_count": null,
   "metadata": {},
   "outputs": [],
   "source": [
    "# So, there are total of 287 unique movies out of 1664 movies that this active user has already rated."
   ]
  },
  {
   "cell_type": "code",
   "execution_count": null,
   "metadata": {},
   "outputs": [],
   "source": [
    "b=watched_movies.alias('b')"
   ]
  },
  {
   "cell_type": "code",
   "execution_count": null,
   "metadata": {},
   "outputs": [],
   "source": [
    "total_movies = a.join(b, a.title_new == b.title_new,how='left')"
   ]
  },
  {
   "cell_type": "code",
   "execution_count": null,
   "metadata": {},
   "outputs": [],
   "source": [
    "total_movies.show(10,False)"
   ]
  },
  {
   "cell_type": "code",
   "execution_count": null,
   "metadata": {},
   "outputs": [],
   "source": [
    "from pyspark.sql.functions import col, lit\n",
    "remaining_movies=total_movies.where(col(\"b.title_new\").isNull()).select(a.title_new).distinct()"
   ]
  },
  {
   "cell_type": "code",
   "execution_count": null,
   "metadata": {},
   "outputs": [],
   "source": [
    "remaining_movies.count()"
   ]
  },
  {
   "cell_type": "code",
   "execution_count": null,
   "metadata": {},
   "outputs": [],
   "source": [
    "remaining_movies=remaining_movies.withColumn(\"userId\",lit(int(user_id)))"
   ]
  },
  {
   "cell_type": "code",
   "execution_count": null,
   "metadata": {},
   "outputs": [],
   "source": [
    "remaining_movies.show(10,False)"
   ]
  },
  {
   "cell_type": "code",
   "execution_count": null,
   "metadata": {},
   "outputs": [],
   "source": [
    "recommendations=rec_model.transform(remaining_movies).orderBy('prediction',ascending=False)"
   ]
  },
  {
   "cell_type": "code",
   "execution_count": null,
   "metadata": {},
   "outputs": [],
   "source": [
    "recommendations.show(5,False)\n"
   ]
  },
  {
   "cell_type": "code",
   "execution_count": null,
   "metadata": {},
   "outputs": [],
   "source": [
    "movie_title = IndexToString(inputCol=\"title_new\", outputCol=\"title\",labels=model.labels)"
   ]
  },
  {
   "cell_type": "code",
   "execution_count": null,
   "metadata": {},
   "outputs": [],
   "source": [
    "final_recommendations=movie_title.transform(recommendations)"
   ]
  },
  {
   "cell_type": "code",
   "execution_count": null,
   "metadata": {},
   "outputs": [],
   "source": [
    "final_recommendations.show(10,False)"
   ]
  },
  {
   "cell_type": "markdown",
   "metadata": {},
   "source": [
    "# <a id='4'>4. Exercises</a>"
   ]
  },
  {
   "cell_type": "markdown",
   "metadata": {},
   "source": [
    "## Choose the user that rated starwars with classification 5 and check what are the highest prediction for that user."
   ]
  },
  {
   "cell_type": "code",
   "execution_count": null,
   "metadata": {},
   "outputs": [],
   "source": []
  },
  {
   "cell_type": "code",
   "execution_count": null,
   "metadata": {},
   "outputs": [],
   "source": []
  },
  {
   "cell_type": "code",
   "execution_count": null,
   "metadata": {},
   "outputs": [],
   "source": []
  },
  {
   "cell_type": "code",
   "execution_count": null,
   "metadata": {},
   "outputs": [],
   "source": []
  },
  {
   "cell_type": "markdown",
   "metadata": {},
   "source": [
    "# <a id='5'>5. References</a>"
   ]
  },
  {
   "cell_type": "markdown",
   "metadata": {},
   "source": [
    "http://file.allitebooks.com/20181215/Machine%20Learning%20with%20PySpark.pdf"
   ]
  }
 ],
 "metadata": {
  "kernelspec": {
   "display_name": "Python 3",
   "language": "python",
   "name": "python3"
  },
  "language_info": {
   "codemirror_mode": {
    "name": "ipython",
    "version": 3
   },
   "file_extension": ".py",
   "mimetype": "text/x-python",
   "name": "python",
   "nbconvert_exporter": "python",
   "pygments_lexer": "ipython3",
   "version": "3.7.3"
  }
 },
 "nbformat": 4,
 "nbformat_minor": 2
}
